{
 "cells": [
  {
   "cell_type": "code",
   "execution_count": null,
   "id": "d95a62b9",
   "metadata": {},
   "outputs": [],
   "source": [
    "############################################################################################\n",
    "\n",
    "##############################       Game dataSet project     ##############################     \n",
    "\n",
    "############################################################################################"
   ]
  },
  {
   "cell_type": "code",
   "execution_count": null,
   "id": "1f151fb3",
   "metadata": {},
   "outputs": [],
   "source": [
    "############################################################################################\n",
    "\n",
    "######################################       MVP     #######################################   \n",
    "\n",
    "############################################################################################"
   ]
  },
  {
   "cell_type": "markdown",
   "id": "6b29e5c4",
   "metadata": {},
   "source": [
    "The main goal of this project is to study the video games market any analyze it to help\n",
    "tothe client to have a good understanding about the market and the sales of the video\n",
    "games to help the company establish their own game."
   ]
  },
  {
   "cell_type": "markdown",
   "id": "59728c72",
   "metadata": {},
   "source": [
    "<img src=\"fig1.png\"/>"
   ]
  },
  {
   "cell_type": "markdown",
   "id": "e1be0e06",
   "metadata": {},
   "source": [
    "To achieve the goal of the project, at the start of the work i used lineplot to repreasent the sales of every region in the last 16 years based on feature called \"Year_of_Release\".\n",
    "\n",
    "the figure shows the Sales of each region as it follows:\n",
    "\n",
    "1- the North America in <font color=blue>\"Blue\"</font> line\n",
    "\n",
    "2- the Europe in <font color=orange>\"orange\"</font> dashes\n",
    "\n",
    "3- the Japan in <font color=green>\"green\"</font> dots\n",
    "\n",
    "4- the other sales in <font color=red>\"red\"</font> dots and dashes\n",
    "\n",
    "the result indcates that<font color=blue> North America</font> region is the most profitable region specially between the year 2006 to 2010 as it starts to downgrade in the last few years\n",
    "\n",
    "Follows it in the second place <font color=orange>\"Europe\"</font> as it is the second most region in term of sales,<font color=orange>\"Europe\"</font> region has not changed much compared with<font color=blue> North America</font> region\n",
    "\n",
    "<font color=green>\"Japan\"</font> region takes the third place in Sales,in the last 4 years the region decreased significantlly as<font color=red> other sales</font>  became above <font color=green>\"Japan\"</font> region in terms of sales"
   ]
  },
  {
   "cell_type": "code",
   "execution_count": null,
   "id": "5eb0baf4",
   "metadata": {},
   "outputs": [],
   "source": []
  }
 ],
 "metadata": {
  "kernelspec": {
   "display_name": "Python 3",
   "language": "python",
   "name": "python3"
  },
  "language_info": {
   "codemirror_mode": {
    "name": "ipython",
    "version": 3
   },
   "file_extension": ".py",
   "mimetype": "text/x-python",
   "name": "python",
   "nbconvert_exporter": "python",
   "pygments_lexer": "ipython3",
   "version": "3.8.8"
  }
 },
 "nbformat": 4,
 "nbformat_minor": 5
}
